{
 "cells": [
  {
   "cell_type": "code",
   "execution_count": null,
   "id": "77c5e78c",
   "metadata": {},
   "outputs": [],
   "source": [
    "**Question 1**\n",
    "\n",
    "Given a non-negative integer `x`, return *the square root of* `x` *rounded down to the nearest integer*. The returned \n",
    "integer should be **non-negative** as well.\n",
    "\n",
    "You **must not use** any built-in exponent function or operator.\n",
    "\n",
    "- For example, do not use `pow(x, 0.5)` in c++ or `x ** 0.5` in python.\n",
    "\n",
    "**Example 1:**\n",
    "Input: x = 4\n",
    "Output: 2\n",
    "Explanation: The square root of 4 is 2, so we return 2.\n"
   ]
  },
  {
   "cell_type": "code",
   "execution_count": 1,
   "id": "723fb940",
   "metadata": {},
   "outputs": [
    {
     "name": "stdout",
     "output_type": "stream",
     "text": [
      "2\n"
     ]
    }
   ],
   "source": [
    "    def mySqrt(x):\n",
    "        left,right=1,x\n",
    "        while left<=right:\n",
    "            mid=(left+right)//2\n",
    "            if mid*mid==x:\n",
    "                return mid\n",
    "            if mid*mid>x:\n",
    "                right=mid-1\n",
    "            else:\n",
    "                left=mid+1\n",
    "        return right\n",
    "    print(mySqrt(4))"
   ]
  },
  {
   "cell_type": "code",
   "execution_count": null,
   "id": "34eb4e9c",
   "metadata": {},
   "outputs": [],
   "source": [
    "**Question 2**\n",
    "\n",
    "A peak element is an element that is strictly greater than its neighbors.\n",
    "\n",
    "Given a **0-indexed** integer array `nums`, find a peak element, and return its index. If the array contains multiple \n",
    "peaks, return the index to **any of the peaks**.\n",
    "\n",
    "You may imagine that `nums[-1] = nums[n] = -∞`. In other words, an element is always considered to be strictly greater \n",
    "than a neighbor that is outside the array.\n",
    "\n",
    "You must write an algorithm that runs in `O(log n)` time.\n",
    "\n",
    "**Example 1:**\n",
    "Input: nums = [1,2,3,1]\n",
    "Output: 2\n",
    "Explanation: 3 is a peak element and your function should return the index number 2."
   ]
  },
  {
   "cell_type": "code",
   "execution_count": 2,
   "id": "c105f12e",
   "metadata": {},
   "outputs": [
    {
     "name": "stdout",
     "output_type": "stream",
     "text": [
      "2\n"
     ]
    }
   ],
   "source": [
    " def findPeakElement(nums):\n",
    "        n = len(nums)\n",
    "        l, r = 0, n - 1\n",
    "        while l < r:\n",
    "            mid = (l + r) >> 1\n",
    "            if nums[mid] < nums[mid + 1]:\n",
    "                l =  mid + 1\n",
    "            else:\n",
    "                r = mid \n",
    "        return l\n",
    "print(findPeakElement( [1,2,3,1]))"
   ]
  },
  {
   "cell_type": "code",
   "execution_count": null,
   "id": "82a2c5c2",
   "metadata": {},
   "outputs": [],
   "source": [
    "**Question 3**\n",
    "\n",
    "****\n",
    "\n",
    "Given an array `nums` containing `n` distinct numbers in the range `[0, n]`, return *the only number in the range that is \n",
    "missing from the array.*\n",
    "\n",
    "**Example 1:**\n",
    "Input: nums = [3,0,1]\n",
    "Output: 2\n",
    "Explanation: n = 3 since there are 3 numbers, so all numbers are in the range [0,3]. 2 is the missing number in the range \n",
    "since it does not appear in nums.\n"
   ]
  },
  {
   "cell_type": "code",
   "execution_count": 3,
   "id": "b167d411",
   "metadata": {},
   "outputs": [
    {
     "name": "stdout",
     "output_type": "stream",
     "text": [
      "2\n"
     ]
    }
   ],
   "source": [
    "    def missingNumber(nums):\n",
    "        # solution1\n",
    "        nums = nums + list(range(0,len(nums)+1))\n",
    "        ans = 0\n",
    "        for i in nums:\n",
    "            ans ^= i\n",
    "        return ans\n",
    "    print(missingNumber([3,0,1]))"
   ]
  },
  {
   "cell_type": "code",
   "execution_count": null,
   "id": "c87f8551",
   "metadata": {},
   "outputs": [],
   "source": [
    "**Question 4**\n",
    "\n",
    "Given an array of integers `nums` containing `n + 1` integers where each integer is in the range `[1, n]` inclusive.\n",
    "\n",
    "There is only **one repeated number** in `nums`, return *this repeated number*.\n",
    "\n",
    "You must solve the problem **without** modifying the array `nums` and uses only constant extra space.\n",
    "\n",
    "**Example 1:**\n",
    "Input: nums = [1,3,4,2,2]\n",
    "Output: 2"
   ]
  },
  {
   "cell_type": "code",
   "execution_count": 4,
   "id": "a34942ca",
   "metadata": {},
   "outputs": [
    {
     "name": "stdout",
     "output_type": "stream",
     "text": [
      "2\n"
     ]
    }
   ],
   "source": [
    "def findDuplicate( nums):\n",
    "        for k in nums:\n",
    "            a = abs(k)\n",
    "            if nums[a-1] < 0: return a\n",
    "            else:\n",
    "                nums[a-1]*=-1\n",
    "print(findDuplicate([1,3,4,2,2]))"
   ]
  },
  {
   "cell_type": "code",
   "execution_count": null,
   "id": "882cd0c2",
   "metadata": {},
   "outputs": [],
   "source": [
    "**Question 5**\n",
    "\n",
    "Given two integer arrays `nums1` and `nums2`, return *an array of their intersection*. Each element in the result must be \n",
    "unique and you may return the result in **any order**.\n",
    "\n",
    "**Example 1:**\n",
    "Input: nums1 = [1,2,2,1], nums2 = [2,2]\n",
    "Output: [2]"
   ]
  },
  {
   "cell_type": "code",
   "execution_count": 5,
   "id": "3751ec2c",
   "metadata": {},
   "outputs": [
    {
     "name": "stdout",
     "output_type": "stream",
     "text": [
      "[2]\n"
     ]
    }
   ],
   "source": [
    "def intersection(nums1,nums2):\n",
    "        # Convert nums1 to set\n",
    "        nums1_set = set(nums1)\n",
    "        # Create a set to store the intersection\n",
    "        intersection_set = set()\n",
    "        # Loop through nums2 and check if each element is in nums1_set\n",
    "        for num in nums2:\n",
    "            if num in nums1_set:\n",
    "                intersection_set.add(num)\n",
    "        # Convert the intersection set back to a list and return\n",
    "        return list(intersection_set)\n",
    "print(intersection([1,2,2,1],[2,2]))"
   ]
  },
  {
   "cell_type": "code",
   "execution_count": null,
   "id": "b773d4a0",
   "metadata": {},
   "outputs": [],
   "source": [
    "**Question 6**\n",
    "\n",
    "Suppose an array of length `n` sorted in ascending order is **rotated** between `1` and `n` times. For example, the array \n",
    "`nums = [0,1,2,4,5,6,7]` might become:\n",
    "\n",
    "- `[4,5,6,7,0,1,2]` if it was rotated `4` times.\n",
    "- `[0,1,2,4,5,6,7]` if it was rotated `7` times.\n",
    "\n",
    "Notice that **rotating** an array `[a[0], a[1], a[2], ..., a[n-1]]` 1 time results in the array `[a[n-1], a[0], a[1], a[2],\n",
    "..., a[n-2]]`.\n",
    "\n",
    "Given the sorted rotated array `nums` of **unique** elements, return *the minimum element of this array*.\n",
    "\n",
    "You must write an algorithm that runs in `O(log n) time.`\n",
    "\n",
    "**Example 1:**\n",
    "Input: nums = [3,4,5,1,2]\n",
    "Output: 1\n",
    "Explanation: The original array was [1,2,3,4,5] rotated 3 times."
   ]
  },
  {
   "cell_type": "code",
   "execution_count": null,
   "id": "cec68643",
   "metadata": {},
   "outputs": [],
   "source": [
    "def findMin(nums):\n",
    "    l, r = 0, len(nums) - 1\n",
    "\n",
    "    while l < r:\n",
    "        m = l + (r - l)\n",
    "\n",
    "        if nums[m] > nums[r]:\n",
    "            l = m + 1\n",
    "             \n",
    "        else:\n",
    "            r = m \n",
    "\n",
    "    return nums[l] \n",
    "print(findMin([3,4,5,1,2]))"
   ]
  },
  {
   "cell_type": "code",
   "execution_count": null,
   "id": "c59f0938",
   "metadata": {},
   "outputs": [],
   "source": [
    "**Question 7**\n",
    "\n",
    "Given an array of integers `nums` sorted in non-decreasing order, find the starting and ending position of a given \n",
    "`target` value.\n",
    "\n",
    "If `target` is not found in the array, return `[-1, -1]`.\n",
    "\n",
    "You must write an algorithm with `O(log n)` runtime complexity.\n",
    "Example 1:\n",
    "Input: nums = [5,7,7,8,8,10], target = 8\n",
    "Output: [3,4]\n",
    "\n"
   ]
  },
  {
   "cell_type": "code",
   "execution_count": 2,
   "id": "d3521af8",
   "metadata": {},
   "outputs": [
    {
     "name": "stdout",
     "output_type": "stream",
     "text": [
      "[3, 4]\n"
     ]
    }
   ],
   "source": [
    "    def searchRange( nums, target):\n",
    "        if target in nums:\n",
    "            return[nums.index(target),len(nums)-nums[::-1].index(target)-1]\n",
    "        else: return [-1,-1]\n",
    "    print(searchRange([5,7,7,8,8,10],8))"
   ]
  },
  {
   "cell_type": "code",
   "execution_count": null,
   "id": "1490d5e2",
   "metadata": {},
   "outputs": [],
   "source": [
    " **Question 8**\n",
    "Given two integer arrays `nums1` and `nums2`, return *an array of their intersection*. Each element in the result must \n",
    "appear as many times as it shows in both arrays and you may return the result in **any order**.\n",
    "**Example 1:**\n",
    "\n",
    "Input: nums1 = [1,2,2,1], nums2 = [2,2]\n",
    "Output: [2,2]\n"
   ]
  },
  {
   "cell_type": "code",
   "execution_count": 3,
   "id": "bb73c79c",
   "metadata": {},
   "outputs": [
    {
     "name": "stdout",
     "output_type": "stream",
     "text": [
      "[2]\n"
     ]
    }
   ],
   "source": [
    "def intersection(nums1,nums2):\n",
    "        # Convert nums1 to set\n",
    "        nums1_set = set(nums1)\n",
    "        # Create a set to store the intersection\n",
    "        intersection_set = set()\n",
    "        # Loop through nums2 and check if each element is in nums1_set\n",
    "        for num in nums2:\n",
    "            if num in nums1_set:\n",
    "                intersection_set.add(num)\n",
    "        # Convert the intersection set back to a list and return\n",
    "        return list(intersection_set)\n",
    "print(intersection([1,2,2,1],[2,2]))"
   ]
  }
 ],
 "metadata": {
  "kernelspec": {
   "display_name": "Python 3 (ipykernel)",
   "language": "python",
   "name": "python3"
  },
  "language_info": {
   "codemirror_mode": {
    "name": "ipython",
    "version": 3
   },
   "file_extension": ".py",
   "mimetype": "text/x-python",
   "name": "python",
   "nbconvert_exporter": "python",
   "pygments_lexer": "ipython3",
   "version": "3.9.12"
  }
 },
 "nbformat": 4,
 "nbformat_minor": 5
}
